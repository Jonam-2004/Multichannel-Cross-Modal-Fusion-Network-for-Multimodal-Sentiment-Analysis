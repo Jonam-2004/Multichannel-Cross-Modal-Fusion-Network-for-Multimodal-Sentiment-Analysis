{
 "cells": [
  {
   "cell_type": "code",
   "execution_count": 3,
   "metadata": {},
   "outputs": [
    {
     "name": "stdout",
     "output_type": "stream",
     "text": [
      "torch.Size([2089, 1, 768])\n"
     ]
    }
   ],
   "source": [
    "import torch\n",
    "import torch.nn as nn\n",
    "import torch.nn.functional as F\n",
    "import os\n",
    "import numpy as np\n",
    "\n",
    "# Define a function to load the acoustic features from .npy files\n",
    "def load_acoustic_features(feature_dir):\n",
    "    feature_files = sorted(os.listdir(feature_dir))\n",
    "    features = [np.load(os.path.join(feature_dir, file), allow_pickle=True) for file in feature_files]\n",
    "    features = np.stack(features, axis=0)  # Stack into a single tensor\n",
    "    return torch.tensor(features, dtype=torch.float32)\n",
    "\n",
    "# Auxiliary Modal Redundancy Reduction Algorithm for acoustic features\n",
    "class AuxiliaryModalRedundancyReduction(nn.Module):\n",
    "    def __init__(self, input_dim, output_dim):\n",
    "        super(AuxiliaryModalRedundancyReduction, self).__init__()\n",
    "        # Define linear layers for acoustic features\n",
    "        self.acoustic_linear_Q = nn.Linear(input_dim, output_dim)\n",
    "        self.acoustic_linear_K = nn.Linear(input_dim, output_dim)\n",
    "        self.acoustic_linear_V = nn.Linear(input_dim, output_dim)\n",
    "        \n",
    "    def forward(self, acoustic_features):\n",
    "        # Assuming acoustic_features have the shape [batch_size, seq_len, input_dim]\n",
    "        # Embedding step\n",
    "        fa_Q = self.acoustic_linear_Q(acoustic_features)  # [batch_size, seq_len, output_dim]\n",
    "        fa_K = self.acoustic_linear_K(acoustic_features)  # [batch_size, seq_len, output_dim]\n",
    "        fa_V = self.acoustic_linear_V(acoustic_features)  # [batch_size, seq_len, output_dim]\n",
    "        \n",
    "        # Attention score calculation\n",
    "        W_a2a = F.softmax(torch.matmul(fa_Q, fa_K.transpose(-1, -2)) / fa_K.size(-1)**0.5, dim=-1)  # [batch_size, seq_len, seq_len]\n",
    "        Attena = torch.matmul(W_a2a, fa_V)  # [batch_size, seq_len, output_dim]\n",
    "\n",
    "        # Output refined acoustic information\n",
    "        F2 = Attena\n",
    "\n",
    "        return F2\n",
    "\n",
    "# Example usage:\n",
    "input_dim = 16  # The dimension of your acoustic features\n",
    "output_dim = 768  # Output dimension\n",
    "\n",
    "# Load the acoustic features\n",
    "acoustic_feature_dir = r\"/Users/dinesh/College/final proj/attempt3/features/audio\"\n",
    "acoustic_features = load_acoustic_features(acoustic_feature_dir)  # [batch_size, seq_len, input_dim]\n",
    "\n",
    "# Ensure the device is set up for MPS (Apple Silicon)\n",
    "device = torch.device('mps' if torch.backends.mps.is_available() else 'cpu')\n",
    "\n",
    "# Move features to the device\n",
    "acoustic_features = acoustic_features.to(device)\n",
    "\n",
    "# Ensure acoustic features have the correct shape\n",
    "if acoustic_features.dim() == 2:\n",
    "    acoustic_features = acoustic_features.unsqueeze(1)  # Adding sequence length dimension\n",
    "\n",
    "# Instantiate the model\n",
    "model = AuxiliaryModalRedundancyReduction(input_dim=input_dim, output_dim=output_dim).to(device)\n",
    "\n",
    "# Forward pass through the model\n",
    "F2 = model(acoustic_features)\n",
    "\n",
    "# Print the shape of the output\n",
    "print(F2.shape)\n"
   ]
  },
  {
   "cell_type": "code",
   "execution_count": null,
   "metadata": {},
   "outputs": [],
   "source": []
  }
 ],
 "metadata": {
  "kernelspec": {
   "display_name": "base",
   "language": "python",
   "name": "python3"
  },
  "language_info": {
   "codemirror_mode": {
    "name": "ipython",
    "version": 3
   },
   "file_extension": ".py",
   "mimetype": "text/x-python",
   "name": "python",
   "nbconvert_exporter": "python",
   "pygments_lexer": "ipython3",
   "version": "3.11.7"
  }
 },
 "nbformat": 4,
 "nbformat_minor": 2
}
