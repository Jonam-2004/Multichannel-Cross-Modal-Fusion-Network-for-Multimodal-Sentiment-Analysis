{
 "cells": [
  {
   "cell_type": "code",
   "execution_count": null,
   "metadata": {},
   "outputs": [],
   "source": [
    "class MCFNet(nn.Module):\n",
    "    def __init__(self, output_dim, final_output_dim):\n",
    "        super(MCFNet, self).__init__()\n",
    "        # Fully connected layer to unify feature dimensions\n",
    "        self.fc = nn.Linear(output_dim, final_output_dim)\n",
    "        self.silu = nn.SiLU()  # Activation function\n",
    "\n",
    "    def forward(self, F1, F2, F3):\n",
    "        # Element-wise addition of features from all channels\n",
    "        F = F1 + F2 + F3\n",
    "        # Fully connected layer\n",
    "        F = self.fc(F)\n",
    "        F = self.silu(F)\n",
    "        return F\n",
    "\n",
    "# Example usage:\n",
    "final_output_dim = 3  # Assuming three sentiment classes: negative, neutral, positive\n",
    "\n",
    "# Instantiate the model\n",
    "mcf_net = MCFNet(output_dim=768, final_output_dim=final_output_dim).to(device)\n",
    "\n",
    "# Forward pass through the model\n",
    "final_output = mcf_net(F1, F2, F3)\n",
    "\n",
    "# Print the shape of the final output\n",
    "print(final_output.shape)\n"
   ]
  }
 ],
 "metadata": {
  "language_info": {
   "name": "python"
  }
 },
 "nbformat": 4,
 "nbformat_minor": 2
}
