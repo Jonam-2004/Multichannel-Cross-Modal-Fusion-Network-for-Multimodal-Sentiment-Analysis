{
 "cells": [
  {
   "cell_type": "code",
   "execution_count": 1,
   "metadata": {},
   "outputs": [
    {
     "name": "stdout",
     "output_type": "stream",
     "text": [
      "New CSV file saved at: /Users/dinesh/College/final proj/attempt3/updatedMoseiData/labels.csv\n"
     ]
    }
   ],
   "source": [
    "import pandas as pd\n",
    "\n",
    "# Load the original CSV file\n",
    "input_file = r\"/Users/dinesh/College/final proj/attempt3/updatedMoseiData/new_mosei.csv\"\n",
    "output_file = r\"/Users/dinesh/College/final proj/attempt3/updatedMoseiData/labels.csv\"\n",
    "# Read the CSV file into a DataFrame\n",
    "df = pd.read_csv(input_file)\n",
    "\n",
    "# Define thresholds for labels (adjust these thresholds as needed)\n",
    "thresholds = {\n",
    "    \"happy\": 0.5,\n",
    "    \"sad\": 0.5,\n",
    "    \"anger\": 0.5,\n",
    "    \"surprise\": 0.5,\n",
    "    \"disgust\": 0.5,\n",
    "    \"fear\": 0.5\n",
    "}\n",
    "\n",
    "# Function to determine the label based on thresholds\n",
    "def calculate_labels(row):\n",
    "    labels = []\n",
    "    for emotion in thresholds.keys():\n",
    "        if row[emotion] >= thresholds[emotion]:\n",
    "            labels.append(emotion)\n",
    "    return ','.join(labels) if labels else \"neutral\"\n",
    "\n",
    "# Apply the function to each row to calculate labels\n",
    "df['labels'] = df.apply(calculate_labels, axis=1)\n",
    "\n",
    "# Select only the necessary columns for the new CSV file\n",
    "df_new = df[['file_name', 'text', 'sentiment', 'labels']]\n",
    "\n",
    "# Save the new DataFrame to a CSV file\n",
    "df_new.to_csv(output_file, index=False)\n",
    "\n",
    "print(f\"New CSV file saved at: {output_file}\")\n"
   ]
  },
  {
   "cell_type": "code",
   "execution_count": null,
   "metadata": {},
   "outputs": [],
   "source": []
  }
 ],
 "metadata": {
  "kernelspec": {
   "display_name": "base",
   "language": "python",
   "name": "python3"
  },
  "language_info": {
   "codemirror_mode": {
    "name": "ipython",
    "version": 3
   },
   "file_extension": ".py",
   "mimetype": "text/x-python",
   "name": "python",
   "nbconvert_exporter": "python",
   "pygments_lexer": "ipython3",
   "version": "3.11.7"
  }
 },
 "nbformat": 4,
 "nbformat_minor": 2
}
