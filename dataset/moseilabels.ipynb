{
 "cells": [
  {
   "cell_type": "code",
   "execution_count": 2,
   "metadata": {},
   "outputs": [
    {
     "name": "stdout",
     "output_type": "stream",
     "text": [
      "Updated CSV file with sentiment labels saved to /Users/dinesh/College/final proj/attempt3/updatedMoseiData/processed_mosei.csv\n"
     ]
    }
   ],
   "source": [
    "import pandas as pd\n",
    "\n",
    "# Paths\n",
    "input_csv_path = r\"/Users/dinesh/College/final proj/attempt3/updatedMoseiData/new_mosei.csv\"\n",
    "output_csv_path = r\"/Users/dinesh/College/final proj/attempt3/updatedMoseiData/processed_mosei.csv\"\n",
    "\n",
    "# Load the dataset\n",
    "df = pd.read_csv(input_csv_path)\n",
    "\n",
    "# Define a function to classify sentiment\n",
    "def classify_sentiment(sentiment):\n",
    "    if sentiment > 0:\n",
    "        return 'positive'\n",
    "    elif sentiment < 0:\n",
    "        return 'negative'\n",
    "    else:\n",
    "        return 'neutral'\n",
    "\n",
    "# Apply the function to the 'sentiment' column\n",
    "df['sentiment_label'] = df['sentiment'].apply(classify_sentiment)\n",
    "\n",
    "# Drop other columns, keeping only 'file_name', 'text', and 'sentiment_label'\n",
    "df = df[['file_name', 'text', 'sentiment_label']]\n",
    "\n",
    "# Save the updated dataframe to a new CSV file\n",
    "df.to_csv(output_csv_path, index=False)\n",
    "\n",
    "print(f\"Updated CSV file with sentiment labels saved to {output_csv_path}\")\n"
   ]
  },
  {
   "cell_type": "code",
   "execution_count": null,
   "metadata": {},
   "outputs": [],
   "source": []
  }
 ],
 "metadata": {
  "kernelspec": {
   "display_name": "base",
   "language": "python",
   "name": "python3"
  },
  "language_info": {
   "codemirror_mode": {
    "name": "ipython",
    "version": 3
   },
   "file_extension": ".py",
   "mimetype": "text/x-python",
   "name": "python",
   "nbconvert_exporter": "python",
   "pygments_lexer": "ipython3",
   "version": "3.11.7"
  }
 },
 "nbformat": 4,
 "nbformat_minor": 2
}
