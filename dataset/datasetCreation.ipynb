{
 "cells": [
  {
   "cell_type": "code",
   "execution_count": 7,
   "metadata": {},
   "outputs": [],
   "source": [
    "import pandas as pd\n",
    "import os\n",
    "import shutil\n",
    "\n",
    "csv_file = r\"/Users/dinesh/College/final proj/attempt3/mosei/CMU-MOSEI-20230514T151450Z-001/CMU-MOSEI/Labels/Data_Train_modified.csv\"\n",
    "df = pd.read_csv(csv_file)"
   ]
  },
  {
   "cell_type": "code",
   "execution_count": 8,
   "metadata": {},
   "outputs": [],
   "source": [
    "audio_dir = \"/Users/dinesh/College/final proj/attempt3/mosei/CMU-MOSEI-20230514T151450Z-001/CMU-MOSEI/Audio_chunk/Train_modified\"\n",
    "new_audio_dir = r\"/Users/dinesh/College/final proj/attempt3/updatedMoseiData/audio\"\n",
    "os.makedirs(new_audio_dir, exist_ok=True)"
   ]
  },
  {
   "cell_type": "code",
   "execution_count": 9,
   "metadata": {},
   "outputs": [],
   "source": [
    "tolerance = 0.3\n",
    "\n",
    "new_csv_data = []"
   ]
  },
  {
   "cell_type": "code",
   "execution_count": 10,
   "metadata": {},
   "outputs": [],
   "source": [
    "for index, row in df.iterrows():\n",
    "    video = row['video']\n",
    "    start_time = float(row['start_time'])\n",
    "    end_time = float(row['end_time'])\n",
    "\n",
    "    # Extract emotion columns\n",
    "    sentiment = row['sentiment']\n",
    "    happy = row['happy']\n",
    "    sad = row['sad']\n",
    "    anger = row['anger']\n",
    "    surprise = row['surprise']\n",
    "    disgust = row['disgust']\n",
    "    fear = row['fear']\n",
    "    text = row['text']\n",
    "\n",
    "    # List all audio files that start with the same video name\n",
    "    possible_files = [f for f in os.listdir(audio_dir) if f.startswith(video) and f.endswith('.wav')]\n",
    "\n",
    "    matched_file = None\n",
    "\n",
    "    for audio_file in possible_files:\n",
    "        # Extract the start and end times from the audio file name\n",
    "        try:\n",
    "            audio_start_time, audio_end_time = map(float, audio_file[len(video) + 1:-4].split('_'))\n",
    "        except ValueError:\n",
    "            continue\n",
    "\n",
    "        # Check if the CSV times are within the audio file's range (with tolerance)\n",
    "        csv_within_audio = (start_time >= audio_start_time - tolerance and end_time <= audio_end_time + tolerance)\n",
    "        \n",
    "        # Check if the audio file times are within the CSV's range (with tolerance)\n",
    "        audio_within_csv = (audio_start_time >= start_time - tolerance and audio_end_time <= end_time + tolerance)\n",
    "\n",
    "        # If either condition is true, consider it a match\n",
    "        if csv_within_audio or audio_within_csv:\n",
    "            matched_file = audio_file\n",
    "            break\n",
    "\n",
    "    if matched_file:\n",
    "        # Generate the new file name as a number starting from 1\n",
    "        new_file_name = f\"{len(new_csv_data) + 1}.wav\"\n",
    "        \n",
    "        # Copy the matched audio file to the new directory with the new file name\n",
    "        shutil.copy(os.path.join(audio_dir, matched_file), os.path.join(new_audio_dir, new_file_name))\n",
    "        \n",
    "        # Append the data to the new CSV list\n",
    "        new_csv_data.append({\n",
    "            'file_name': new_file_name,\n",
    "            'text': text,\n",
    "            'sentiment': sentiment,\n",
    "            'happy': happy,\n",
    "            'sad': sad,\n",
    "            'anger': anger,\n",
    "            'surprise': surprise,\n",
    "            'disgust': disgust,\n",
    "            'fear': fear\n",
    "        })\n"
   ]
  },
  {
   "cell_type": "code",
   "execution_count": 11,
   "metadata": {},
   "outputs": [],
   "source": [
    "new_df = pd.DataFrame(new_csv_data)\n",
    "\n",
    "new_csv_file = \"/Users/dinesh/College/final proj/attempt3/updatedMoseiData/new_mosei.csv\"\n",
    "new_df.to_csv(new_csv_file, index=False)"
   ]
  },
  {
   "cell_type": "code",
   "execution_count": 12,
   "metadata": {},
   "outputs": [
    {
     "name": "stdout",
     "output_type": "stream",
     "text": [
      "\n",
      "Total matched audio files: 2089\n",
      "New audio files saved to /Users/dinesh/College/final proj/attempt3/updatedMoseiData/audio\n",
      "New CSV file saved to /Users/dinesh/College/final proj/attempt3/updatedMoseiData/new_mosei.csv\n"
     ]
    }
   ],
   "source": [
    "print(f\"\\nTotal matched audio files: {len(new_csv_data)}\")\n",
    "print(f\"New audio files saved to {new_audio_dir}\")\n",
    "print(f\"New CSV file saved to {new_csv_file}\")\n"
   ]
  },
  {
   "cell_type": "code",
   "execution_count": null,
   "metadata": {},
   "outputs": [],
   "source": []
  }
 ],
 "metadata": {
  "kernelspec": {
   "display_name": "base",
   "language": "python",
   "name": "python3"
  },
  "language_info": {
   "codemirror_mode": {
    "name": "ipython",
    "version": 3
   },
   "file_extension": ".py",
   "mimetype": "text/x-python",
   "name": "python",
   "nbconvert_exporter": "python",
   "pygments_lexer": "ipython3",
   "version": "3.11.7"
  }
 },
 "nbformat": 4,
 "nbformat_minor": 2
}
